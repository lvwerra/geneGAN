{
 "cells": [
  {
   "cell_type": "code",
   "execution_count": 1,
   "metadata": {
    "collapsed": true
   },
   "outputs": [],
   "source": [
    "import numpy as np\n",
    "import matplotlib.pyplot as plt\n",
    "import treatgan_model as tg"
   ]
  },
  {
   "cell_type": "code",
   "execution_count": 2,
   "metadata": {
    "collapsed": true
   },
   "outputs": [],
   "source": [
    "def plotDiffHist(real_data, gen_data, color, label='', **kwargs):\n",
    "    bins = np.linspace(0,10,11)\n",
    "    n_rows = np.shape(real_data)[0]\n",
    "    rounded_gen_data = np.round(gen_data)\n",
    "    diffs = []\n",
    "    for i in range(n_rows):\n",
    "        diffs.append(np.sum(np.abs(rounded_gen_data[i,:]-real_data[i,:])))\n",
    "        \n",
    "    plt.hist(diffs,bins,color=color,histtype='step', normed=True, label=label)\n",
    "    \n",
    "    plt.vlines(np.mean(diffs),0,0.5,linewidth=0.5,color=color)\n",
    "    #plt.show()\n",
    "    \n",
    "def showHist():\n",
    "    plt.ylabel('percentage')\n",
    "    plt.xlabel('digits deviation')\n",
    "    plt.title('different condition')\n",
    "    plt.legend(loc='best')\n",
    "    plt.show()\n",
    "    \n",
    "    \n",
    "def plotValuation(eval_dict):\n",
    "    f, ((ax1, ax2), (ax3, ax4)) = plt.subplots(2, 2, sharex='col')#, sharey='row')\n",
    "    ax1.hist(eval_dict['y_hat_real_train'])\n",
    "    ax1.set_title('train')\n",
    "    ax1.set_ylabel('training data')\n",
    "    ax2.hist(eval_dict['y_hat_real_valid'])\n",
    "    ax2.set_title('valid')\n",
    "    ax3.hist(eval_dict['y_hat_fake_train'])\n",
    "    ax3.set_ylabel('generator data')\n",
    "    ax4.hist(eval_dict['y_hat_fake_valid'])\n",
    "    plt.show()\n",
    "    \n",
    "def plotGenOutput(eval_dict, train_data, valid_data):\n",
    "    f, (ax1, ax2) = plt.subplots(1, 2, sharex='col',figsize=(5,10))#, sharey='row')\n",
    "    ax1.imshow(train_data)\n",
    "    ax1.set_title('training data')\n",
    "    ax1.set_ylabel('train')\n",
    "    ax1.axis('tight')\n",
    "    ax2.imshow(eval_dict['x_gen_train'])\n",
    "    ax2.axis('tight')\n",
    "    ax2.set_title('generator')\n",
    "\n",
    "\n",
    "    f, (ax3, ax4) = plt.subplots(1, 2, sharex='col',figsize=(5,1))#, sharey='row')\n",
    "\n",
    "    ax3.imshow(valid_data)\n",
    "    ax3.set_ylabel('valid')\n",
    "    ax3.axis('tight')\n",
    "\n",
    "    ax4.imshow(eval_dict['x_gen_valid'])\n",
    "    ax4.axis('tight')\n",
    "\n",
    "    plt.show()"
   ]
  },
  {
   "cell_type": "code",
   "execution_count": 3,
   "metadata": {
    "collapsed": true
   },
   "outputs": [],
   "source": [
    "start_train =78\n",
    "end_train = 81\n",
    "trainings = list(range(start_train,end_train+1))\n",
    "\n",
    "\n",
    "setting_a = {'inputDim':21,\n",
    "             'condDim':210,\n",
    "             'embeddingDim':16,\n",
    "             'randomDim':210,\n",
    "             'compressDims':[],\n",
    "             'decompressDims':[],\n",
    "             'generatorDims':(256, 128, 16),\n",
    "             'discriminatorDims':(512, 256, 128, 1)}"
   ]
  },
  {
   "cell_type": "code",
   "execution_count": 4,
   "metadata": {},
   "outputs": [
    {
     "data": {
      "image/png": "[encoded data removed]",
      "text/plain": [
       "<matplotlib.figure.Figure at 0x114959dd8>"
      ]
     },
     "metadata": {},
     "output_type": "display_data"
    },
    {
     "data": {
      "image/png": "[encoded data removed]",
      "text/plain": [
       "<matplotlib.figure.Figure at 0x115465dd8>"
      ]
     },
     "metadata": {},
     "output_type": "display_data"
    }
   ],
   "source": [
    "training = 74\n",
    "data_version = 'v4'\n",
    "last_evals = {}\n",
    "\n",
    "training_name = str(training).zfill(3)\n",
    "last_evals[training_name] = {}\n",
    "\n",
    "    \n",
    "data_set_treat = '/treat_gan/treat_gan_training_data/treatgan_'+data_version+'_treat.npy'\n",
    "data_set_demo = '/treat_gan/treat_gan_training_data/treatgan_'+data_version+'_demo.npy'\n",
    "\n",
    "training_cond = np.load(data_set_demo)\n",
    "training_data = np.load(data_set_treat)\n",
    "\n",
    "data_path = 'treat_gan/treat_gan_training_results/treatgan_'+training_name+'/'\n",
    "\n",
    "last_eval_path = data_path+'treatgan'+training_name+'_last_eval.npz'\n",
    "\n",
    "model_path = data_path+'treatgan'+training_name\n",
    "\n",
    "\n",
    "last_eval = np.load(last_eval_path)\n",
    "train_ind = np.load(data_path+'train_ind.npy')\n",
    "valid_ind = np.load(data_path+'valid_ind.npy')\n",
    "\n",
    "train_data = training_data[train_ind]\n",
    "valid_data = training_data[valid_ind]\n",
    "\n",
    "last_evals[training_name]['last_eval'] = last_eval\n",
    "last_evals[training_name]['train_data'] = train_data\n",
    "last_evals[training_name]['valid_data'] = valid_data\n",
    "    \n",
    "treatgan = tg.treatgan_load(model_path, **setting_a)\n",
    "\n",
    "yhat = treatgan.discriminateData(training_data,training_cond)\n",
    "plt.hist(yhat)\n",
    "plt.show()\n",
    "x_gen = treatgan.generateData(training_cond)\n",
    "plt.figure(figsize=(5,10))\n",
    "plt.imshow(x_gen)\n",
    "\n",
    "plt.axis('tight')\n",
    "plt.show()"
   ]
  },
  {
   "cell_type": "code",
   "execution_count": null,
   "metadata": {},
   "outputs": [],
   "source": [
    "labels=['no genes','with genes'] \n",
    "labels = ['2000','3000','4000','5000','5000']\n",
    "labels = ['no treatment', 'treatment']\n",
    "colors = ['C0','C1', 'C2', 'C4','C5']\n",
    "for color,label,training in zip(colors,labels,trainings):\n",
    "    training_name = str(training).zfill(3)\n",
    "    plotDiffHist(last_evals[training_name]['train_data'], last_evals[training_name]['last_eval']['x_gen_train'],color, label=label)\n",
    "showHist()\n",
    "\n",
    "\n",
    "for color,label,training in zip(colors,labels,trainings):\n",
    "    \n",
    "    training_name = str(training).zfill(3)\n",
    "    plotDiffHist(last_evals[training_name]['valid_data'], last_evals[training_name]['last_eval']['x_gen_valid'],color, label=label)\n",
    "showHist()"
   ]
  },
  {
   "cell_type": "code",
   "execution_count": null,
   "metadata": {},
   "outputs": [],
   "source": [
    "for training in trainings:\n",
    "    training_name = str(training).zfill(3)\n",
    "    plotValuation(last_evals[training_name]['last_eval'])"
   ]
  },
  {
   "cell_type": "code",
   "execution_count": null,
   "metadata": {
    "scrolled": false
   },
   "outputs": [],
   "source": [
    "for training in trainings:\n",
    "    training_name = str(training).zfill(3)\n",
    "    plotGenOutput(last_evals[training_name]['last_eval'],last_evals[training_name]['train_data'],last_evals[training_name]['valid_data'])"
   ]
  },
  {
   "cell_type": "code",
   "execution_count": null,
   "metadata": {},
   "outputs": [],
   "source": [
    "f, ((ax1, ax2), (ax3, ax4)) = plt.subplots(2, 2, sharex='col')#, sharey='row')\n",
    "ax1.hist(last_eval['y_hat_real_train'])\n",
    "ax1.set_title('train')\n",
    "ax1.set_ylabel('training data')\n",
    "ax2.hist(last_eval['y_hat_real_valid'])\n",
    "ax2.set_title('valid')\n",
    "ax3.hist(last_eval['y_hat_fake_train'])\n",
    "ax3.set_ylabel('generator data')\n",
    "\n",
    "ax4.hist(last_eval['y_hat_fake_valid'])\n",
    "plt.show()"
   ]
  },
  {
   "cell_type": "code",
   "execution_count": null,
   "metadata": {},
   "outputs": [],
   "source": [
    "f, (ax1, ax2) = plt.subplots(1, 2, sharex='col',figsize=(5,10))#, sharey='row')\n",
    "ax1.imshow(train_data)\n",
    "ax1.set_title('training data')\n",
    "ax1.set_ylabel('train')\n",
    "ax1.axis('tight')\n",
    "ax2.imshow(last_eval['x_gen_train'])\n",
    "ax2.axis('tight')\n",
    "ax2.set_title('generator')\n",
    "\n",
    "\n",
    "f, (ax3, ax4) = plt.subplots(1, 2, sharex='col',figsize=(5,1))#, sharey='row')\n",
    "\n",
    "ax3.imshow(valid_data)\n",
    "ax3.set_ylabel('valid')\n",
    "ax3.axis('tight')\n",
    "\n",
    "\n",
    "ax4.imshow(last_eval['x_gen_valid'])\n",
    "ax4.axis('tight')\n",
    "\n",
    "plt.show()"
   ]
  },
  {
   "cell_type": "code",
   "execution_count": null,
   "metadata": {},
   "outputs": [],
   "source": [
    "print(np.shape(last_eval['x_gen_valid']))"
   ]
  },
  {
   "cell_type": "code",
   "execution_count": null,
   "metadata": {
    "collapsed": true
   },
   "outputs": [],
   "source": []
  }
 ],
 "metadata": {
  "kernelspec": {
   "display_name": "Python 3",
   "language": "python",
   "name": "python3"
  },
  "language_info": {
   "codemirror_mode": {
    "name": "ipython",
    "version": 3
   },
   "file_extension": ".py",
   "mimetype": "text/x-python",
   "name": "python",
   "nbconvert_exporter": "python",
   "pygments_lexer": "ipython3",
   "version": "3.6.5"
  }
 },
 "nbformat": 4,
 "nbformat_minor": 1
}
