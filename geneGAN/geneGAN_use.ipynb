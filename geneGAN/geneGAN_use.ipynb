{
 "cells": [
  {
   "cell_type": "markdown",
   "metadata": {},
   "source": [
    "# Generative Adverserial Network Usage for Gene Similarity Measures"
   ]
  },
  {
   "cell_type": "code",
   "execution_count": 58,
   "metadata": {
    "collapsed": true
   },
   "outputs": [],
   "source": [
    "from geneGAN_use import geneGAN_model\n",
    "import numpy as np\n",
    "import matplotlib.pyplot as plt"
   ]
  },
  {
   "cell_type": "markdown",
   "metadata": {},
   "source": [
    "## Input\n",
    "Three inputs are needed to study gene similarities with a trained GAN.\n",
    "\n",
    "__cosmic_census_path__: This file contains all genes (and synonyms) used in gene training in alphabetic order. This ordering is also used to encode the genes in binary vectors.\n",
    "\n",
    "__model_path__: This is the path to a saved GAN model. The two listed paths correspond to a model trained on COSMIC cancer patient data and to a model trained on co-occurring genes in PubMed abstracts.\n",
    "\n",
    "__setting__: This dictionary contains information on the GAN structure.\n"
   ]
  },
  {
   "cell_type": "code",
   "execution_count": 59,
   "metadata": {
    "collapsed": true
   },
   "outputs": [],
   "source": [
    "cosmic_census_path = 'data/cosmic_cancer_gene_census.txt'\n",
    "model_cosmic = 'trainings/training_277/training_277'\n",
    "model_pubmed = 'trainings/training_283/training_283'\n",
    "\n",
    "setting   = {'inputDim':614,\n",
    "             'embeddingDim':256,\n",
    "             'randomDim':256,\n",
    "             'compressDims':[],\n",
    "             'decompressDims':[],\n",
    "             'generatorDims':(256, 256),\n",
    "             'discriminatorDims':(256, 128, 1)}\n",
    "\n",
    "ggan = geneGAN_model(**setting)\n"
   ]
  },
  {
   "cell_type": "code",
   "execution_count": 51,
   "metadata": {
    "collapsed": true
   },
   "outputs": [],
   "source": [
    "def importCosmicGenes(filepath):\n",
    "    genes = []\n",
    "    synonyms = []\n",
    "    with open(filepath, 'r') as f:\n",
    "        lines = f.readlines()\n",
    "    for line in lines:\n",
    "        gene_raw, synonyms_raw = line.split('\\t')\n",
    "        genes.append(gene_raw)\n",
    "        synonyms.append(synonyms_raw.strip('\\n').split(','))\n",
    "    return genes, synonyms\n",
    "\n",
    "def geneToIntMap(genes, synonyms):\n",
    "    mapper={}\n",
    "    for i, (gene,syns) in enumerate(zip(genes, synonyms)):\n",
    "        mapper[gene]=i\n",
    "        for s in syns:\n",
    "            mapper[s]=i\n",
    "    return mapper\n",
    "\n",
    "def genePairToVector(gene1, gene2, mapper, dim):\n",
    "    vec = np.zeros(dim)\n",
    "    if gene1 in mapper:\n",
    "        vec[mapper[gene1]]=1\n",
    "    if gene2 in mapper:    \n",
    "        vec[mapper[gene2]]=1\n",
    "    return vec"
   ]
  },
  {
   "cell_type": "markdown",
   "metadata": {},
   "source": [
    "## Gene Encoding\n",
    "This block imports all genes from the cosmic cancer gene census and sets up a mapper from gene names onto integers corresponding to the position in the gene list. This map is used to map gene names to binary vectors"
   ]
  },
  {
   "cell_type": "code",
   "execution_count": 52,
   "metadata": {},
   "outputs": [],
   "source": [
    "genes, synonyms = importCosmicGenes(cosmic_census_path)\n",
    "dim = len(genes)\n",
    "geneMap = geneToIntMap(genes, synonyms)"
   ]
  },
  {
   "cell_type": "markdown",
   "metadata": {},
   "source": [
    "## Example\n",
    "Two gene pairs are encoded in two-hot vectors."
   ]
  },
  {
   "cell_type": "code",
   "execution_count": 53,
   "metadata": {
    "collapsed": true
   },
   "outputs": [],
   "source": [
    "data = []\n",
    "data.append(genePairToVector('TP53', 'EGFR', geneMap, dim))\n",
    "data.append(genePairToVector('ZNF521', 'ZRSR2', geneMap, dim))\n",
    "data = np.array(data)"
   ]
  },
  {
   "cell_type": "markdown",
   "metadata": {},
   "source": [
    "We can use the 'discriminateData' function to get the Discriminator output for each pair. The second argument is used when in batch mode (single=False) and then corresponds to the mean batch vector."
   ]
  },
  {
   "cell_type": "code",
   "execution_count": 54,
   "metadata": {},
   "outputs": [
    {
     "name": "stdout",
     "output_type": "stream",
     "text": [
      "Discriminator evalutation of TP53,EGFR:\t\t 0.958157\n",
      "Discriminator evalutation of ZNF521,ZRSR2:\t 0.153947\n"
     ]
    }
   ],
   "source": [
    "y_hat =  ggan.discriminateData(data, 0, modelFile=model_cosmic, single=True)\n",
    "print('Discriminator evalutation of TP53,EGFR:\\t\\t',y_hat[0])\n",
    "print('Discriminator evalutation of ZNF521,ZRSR2:\\t',y_hat[1])"
   ]
  },
  {
   "cell_type": "markdown",
   "metadata": {},
   "source": [
    "## Embeddings\n",
    "To get the discriminator's embedding vectors for a gene pair are obtained with the 'getDiscEmbeddings' function, which returns a dictionary. The key '0' corresponds to the vector after the first layer and '1' to the second layer (the enumeration goes on if more layers were trained)."
   ]
  },
  {
   "cell_type": "code",
   "execution_count": 61,
   "metadata": {},
   "outputs": [
    {
     "data": {
      "image/png": "[encoded data removed]",
      "text/plain": [
       "<matplotlib.figure.Figure at 0x11e028240>"
      ]
     },
     "metadata": {},
     "output_type": "display_data"
    },
    {
     "data": {
      "image/png": "[encoded data removed]",
      "text/plain": [
       "<matplotlib.figure.Figure at 0x11dc69400>"
      ]
     },
     "metadata": {},
     "output_type": "display_data"
    }
   ],
   "source": [
    "embeddings_in = ggan.getDiscEmbeddings(data, modelFile=model_cosmic)\n",
    "\n",
    "emb_dim = len(embeddings_in['0'][0])\n",
    "plt.step(np.linspace(0,emb_dim,emb_dim),embeddings_in['0'][0], label='TP53,EGFR')\n",
    "plt.step(np.linspace(0,emb_dim,emb_dim),embeddings_in['0'][1], label='ZNF521,ZRSR2')\n",
    "plt.title('embedding vector after first discriminator layer (dim=256)')\n",
    "plt.legend(loc='best')\n",
    "plt.show()\n",
    "\n",
    "emb_dim = len(embeddings_in['1'][0])\n",
    "plt.step(np.linspace(0,emb_dim,emb_dim),embeddings_in['1'][0], label='TP53,EGFR')\n",
    "plt.step(np.linspace(0,emb_dim,emb_dim),embeddings_in['1'][1], label='ZNF521,ZRSR2')\n",
    "plt.title('embedding vector after second discriminator layer (dim=128)')\n",
    "plt.legend(loc='best')\n",
    "plt.show()"
   ]
  },
  {
   "cell_type": "code",
   "execution_count": null,
   "metadata": {
    "collapsed": true
   },
   "outputs": [],
   "source": []
  }
 ],
 "metadata": {
  "kernelspec": {
   "display_name": "Python 3",
   "language": "python",
   "name": "python3"
  },
  "language_info": {
   "codemirror_mode": {
    "name": "ipython",
    "version": 3
   },
   "file_extension": ".py",
   "mimetype": "text/x-python",
   "name": "python",
   "nbconvert_exporter": "python",
   "pygments_lexer": "ipython3",
   "version": "3.6.5"
  }
 },
 "nbformat": 4,
 "nbformat_minor": 2
}
